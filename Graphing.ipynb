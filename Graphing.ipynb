import pandas as pd
import plotly.express as px

df = pd.read_csv('C:\Users\Mads\Downloads\DP_LIVE_20122020102028148.csv')